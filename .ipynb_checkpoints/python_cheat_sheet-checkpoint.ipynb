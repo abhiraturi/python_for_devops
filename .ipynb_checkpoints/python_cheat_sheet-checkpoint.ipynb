{
 "cells": [
  {
   "cell_type": "code",
   "execution_count": 3,
   "metadata": {},
   "outputs": [
    {
     "data": {
      "text/plain": [
       "(True, True)"
      ]
     },
     "execution_count": 3,
     "metadata": {},
     "output_type": "execute_result"
    }
   ],
   "source": [
    "False == (1 > 2), True == (2 > 1)"
   ]
  },
  {
   "cell_type": "code",
   "execution_count": 6,
   "metadata": {},
   "outputs": [
    {
     "data": {
      "text/plain": [
       "True"
      ]
     },
     "execution_count": 6,
     "metadata": {},
     "output_type": "execute_result"
    }
   ],
   "source": [
    "x, y = True, False \n",
    "(x or y) == True \n",
    "(x and y) == False \n",
    "(not y) == True\n",
    "# True # True # True"
   ]
  },
  {
   "cell_type": "code",
   "execution_count": 7,
   "metadata": {},
   "outputs": [
    {
     "name": "stdout",
     "output_type": "stream",
     "text": [
      "Hello World \n"
     ]
    }
   ],
   "source": [
    "#break: ends loop prematurely\n",
    "while(True):\n",
    "    break\n",
    "print(\"Hello World \")"
   ]
  },
  {
   "cell_type": "code",
   "execution_count": 10,
   "metadata": {},
   "outputs": [
    {
     "ename": "KeyboardInterrupt",
     "evalue": "",
     "output_type": "error",
     "traceback": [
      "\u001b[0;31m---------------------------------------------------------------------------\u001b[0m",
      "\u001b[0;31mKeyboardInterrupt\u001b[0m                         Traceback (most recent call last)",
      "\u001b[0;32m<ipython-input-10-e8290bb20420>\u001b[0m in \u001b[0;36m<module>\u001b[0;34m\u001b[0m\n\u001b[1;32m      1\u001b[0m \u001b[0;31m# continue : finishes current lop execution\u001b[0m\u001b[0;34m\u001b[0m\u001b[0;34m\u001b[0m\u001b[0;34m\u001b[0m\u001b[0m\n\u001b[1;32m      2\u001b[0m \u001b[0;32mwhile\u001b[0m\u001b[0;34m(\u001b[0m\u001b[0;32mTrue\u001b[0m\u001b[0;34m)\u001b[0m\u001b[0;34m:\u001b[0m\u001b[0;34m\u001b[0m\u001b[0;34m\u001b[0m\u001b[0m\n\u001b[0;32m----> 3\u001b[0;31m     \u001b[0;32mcontinue\u001b[0m\u001b[0;34m\u001b[0m\u001b[0;34m\u001b[0m\u001b[0m\n\u001b[0m\u001b[1;32m      4\u001b[0m     \u001b[0mprint\u001b[0m\u001b[0;34m(\u001b[0m\u001b[0;34m\"hello \"\u001b[0m\u001b[0;34m)\u001b[0m\u001b[0;34m\u001b[0m\u001b[0;34m\u001b[0m\u001b[0m\n",
      "\u001b[0;31mKeyboardInterrupt\u001b[0m: "
     ]
    }
   ],
   "source": [
    "# continue : finishes current lop execution\n",
    "while(True):\n",
    "    continue\n",
    "    print(\"hello \")"
   ]
  },
  {
   "cell_type": "code",
   "execution_count": 14,
   "metadata": {},
   "outputs": [],
   "source": [
    "\"\"\"\n",
    "class\n",
    "def\n",
    "Defines a new class → a real-world concept (object oriented programming)\n",
    "Defines a new function or class method. For latter, first parameter (“self”) points to the class object. When calling class method, first parameter is implicit.\n",
    "\"\"\"\n",
    "class Beer():\n",
    "    def __init__(self):\n",
    "        self.content=1.0\n",
    "    def drink(self):\n",
    "        self.content=0.0\n",
    "\n",
    "becks=Beer()\n",
    "becks.drink()\n",
    "\n",
    "        \n"
   ]
  },
  {
   "cell_type": "code",
   "execution_count": 15,
   "metadata": {},
   "outputs": [
    {
     "name": "stdout",
     "output_type": "stream",
     "text": [
      "your value: 5\n",
      "Big\n"
     ]
    }
   ],
   "source": [
    "\"\"\"\n",
    "if​, ​elif​, ​else\n",
    "Conditional program execution: program starts with “if” branch, tries the “elif” branches, \n",
    "and finishes with “else” branch (until one branch evaluates to True).\n",
    "\n",
    "\"\"\"\n",
    "x = int(input(\"your value: \")) \n",
    "if x > 3: \n",
    "    print(\"Big\")\n",
    "elif x == 3: \n",
    "    print(\"Medium\") \n",
    "else: \n",
    "    print(\"Small\")"
   ]
  },
  {
   "cell_type": "code",
   "execution_count": 19,
   "metadata": {},
   "outputs": [
    {
     "name": "stdout",
     "output_type": "stream",
     "text": [
      "0\n",
      "1\n",
      "2\n",
      "0\n",
      "1\n",
      "2\n"
     ]
    }
   ],
   "source": [
    "\n",
    "# For loop declaration\n",
    "for i in [0,1,2]: \n",
    "    print(i)\n",
    "\n",
    "j = 0\n",
    "while j < 3:\n",
    "    print(j) \n",
    "    j = j + 1"
   ]
  },
  {
   "cell_type": "code",
   "execution_count": 20,
   "metadata": {},
   "outputs": [
    {
     "data": {
      "text/plain": [
       "True"
      ]
     },
     "execution_count": 20,
     "metadata": {},
     "output_type": "execute_result"
    }
   ],
   "source": [
    "\"\"\"\n",
    "in: Checks whether element is in sequence\n",
    "\"\"\"\n",
    "42 in [32,42,67,87,89]"
   ]
  },
  {
   "cell_type": "code",
   "execution_count": 26,
   "metadata": {},
   "outputs": [
    {
     "name": "stdout",
     "output_type": "stream",
     "text": [
      "True\n",
      "False\n"
     ]
    }
   ],
   "source": [
    "\"\"\"\n",
    "is: Checks whether both elements point to the same object\n",
    "\"\"\"\n",
    "\n",
    "y=x=3\n",
    "print(x is y)\n",
    "\n",
    "print([3] is [3])"
   ]
  },
  {
   "cell_type": "code",
   "execution_count": 1,
   "metadata": {},
   "outputs": [
    {
     "name": "stdout",
     "output_type": "stream",
     "text": [
      "3\n"
     ]
    }
   ],
   "source": [
    "# lambda: Function with no name (anonymous function)\n",
    "\n",
    "y=lambda a,b: a+b\n",
    "print(y(1,2))"
   ]
  },
  {
   "cell_type": "code",
   "execution_count": 6,
   "metadata": {},
   "outputs": [
    {
     "name": "stdout",
     "output_type": "stream",
     "text": [
      "T\n",
      "he\n",
      "ol\n",
      "old\n",
      "\n",
      "\n",
      "\n",
      "\n",
      "This is lazy\n",
      "drdre\n",
      "ATTENTION\n",
      "True\n",
      "True\n",
      "2\n",
      "meat\n",
      "F,B,I\n",
      "15\n",
      "True\n"
     ]
    }
   ],
   "source": [
    "\"\"\"\n",
    "strings:\n",
    "Python Strings are sequences of characters.\n",
    "The four main ways to create strings are the following.\n",
    "1. Single quotes\n",
    "'Yes'\n",
    "2. Double quotes\n",
    "\"Yes\"\n",
    "3. Triple quotes (multi-line)\n",
    "'''\n",
    "Yes\n",
    "We Can\n",
    "'''\n",
    "4. String method\n",
    "str(​5​) == ​'5'​ ​# True 5. Concatenation\n",
    "\"Ma\"​ + ​\"hatma\"​ ​# 'Mahatma'\n",
    "These are whitespace characters in strings. ● Newline ​\\n\n",
    "Space ​\\s\n",
    "Tab ​\\t\n",
    "\"\"\"\n",
    "\n",
    "## 4. Indexing and Slicing\n",
    "s = \"The youngest pope was 11 years old\"\n",
    "print(s[0]) # 'T'\n",
    "print(s[1:3]) # 'he'\n",
    "print(s[-3:-1]) # 'ol'\n",
    "print(s[-3:]) # 'old'\n",
    "\n",
    "\n",
    "print(\"\\n\\n\\n\")\n",
    "\n",
    "\n",
    "## 5. Most Important String Methods\n",
    "y = \" This is lazy\\t\\n \"\n",
    "print(y.strip()) # Remove Whitespace: 'This is lazy' \n",
    "print(\"DrDre\".lower()) # Lowercase: 'drdre' \n",
    "print(\"attention\".upper()) # Uppercase: 'ATTENTION' \n",
    "print(\"smartphone\".startswith(\"smart\")) # True \n",
    "print(\"smartphone\".endswith(\"phone\")) # True \n",
    "print(\"another\".find(\"other\")) # Match index: 2 \n",
    "print(\"cheat\".replace(\"ch\", \"m\")) # 'meat' \n",
    "print(','.join([\"F\", \"B\", \"I\"])) # 'F,B,I' \n",
    "print(len(\"Rumpelstiltskin\")) # String length: 15 \n",
    "print(\"ear\" in \"earth\") # Contains: True\n",
    "\n",
    "\n"
   ]
  },
  {
   "cell_type": "code",
   "execution_count": null,
   "metadata": {},
   "outputs": [],
   "source": []
  }
 ],
 "metadata": {
  "kernelspec": {
   "display_name": "Python 3",
   "language": "python",
   "name": "python3"
  },
  "language_info": {
   "codemirror_mode": {
    "name": "ipython",
    "version": 3
   },
   "file_extension": ".py",
   "mimetype": "text/x-python",
   "name": "python",
   "nbconvert_exporter": "python",
   "pygments_lexer": "ipython3",
   "version": "3.8.5"
  }
 },
 "nbformat": 4,
 "nbformat_minor": 4
}
